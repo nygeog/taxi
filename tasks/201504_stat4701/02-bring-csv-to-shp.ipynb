{
 "metadata": {
  "name": "",
  "signature": "sha256:51b204462a9496a07071eb8ad8d4479b81ef43003c937c64930603bf8d22a057"
 },
 "nbformat": 3,
 "nbformat_minor": 0,
 "worksheets": [
  {
   "cells": [
    {
     "cell_type": "code",
     "collapsed": false,
     "input": [
      "import re\n",
      "import pandas as pd\n",
      "from shapely.geometry import Point, mapping\n",
      "from fiona import collection\n",
      "import glob\n",
      "import os\n",
      "from datetime import datetime\n",
      "\n",
      "start = datetime(2013, 1, 19)\n",
      "end  = datetime(2013, 12, 31)\n",
      "\n",
      "daterange = pd.date_range(start, end)\n",
      "\n",
      "for i in daterange:\n",
      "    z = i.strftime(\"%Y%m%d\")\n",
      "    print z\n",
      "\n",
      "    df = pd.read_csv('/Users/danielmsheehan/Desktop/data/tables/p/'+z+'.csv')\n",
      "    ioSHP = '/Users/danielmsheehan/Desktop/data/processing/p/p_'+z+'.shp'\n",
      "\n",
      "    lng = 'lng'\n",
      "    lat = 'lat'\n",
      "\n",
      "    schema = { 'geometry': 'Point', 'properties': { 'tuid': 'str','lat':'float','lng':'float'} }\n",
      "\n",
      "    data = df\n",
      "    with collection(ioSHP, \"w\", \"ESRI Shapefile\", schema) as output:\n",
      "        for index, row in data.iterrows():\n",
      "            point = Point(row[lng], row[lat])\n",
      "            output.write({\n",
      "                'properties': {'tuid': row['tuid'],'lat': row['lat'],'lng': row['lng']},\n",
      "                'geometry': mapping(point)\n",
      "            })\n",
      "    \n",
      "    df = pd.read_csv('/Users/danielmsheehan/Desktop/data/tables/d/'+z+'.csv')\n",
      "    ioSHP = '/Users/danielmsheehan/Desktop/data/processing/d/d_'+z+'.shp'\n",
      "\n",
      "    lng = 'lng'\n",
      "    lat = 'lat'\n",
      "\n",
      "    schema = { 'geometry': 'Point', 'properties': { 'tuid': 'str','lat':'float','lng':'float'} }\n",
      "\n",
      "    data = df\n",
      "    with collection(ioSHP, \"w\", \"ESRI Shapefile\", schema) as output:\n",
      "        for index, row in data.iterrows():\n",
      "            point = Point(row[lng], row[lat])\n",
      "            output.write({\n",
      "                'properties': {'tuid': row['tuid'],'lat': row['lat'],'lng': row['lng']},\n",
      "                'geometry': mapping(point)\n",
      "            })"
     ],
     "language": "python",
     "metadata": {},
     "outputs": []
    },
    {
     "cell_type": "markdown",
     "metadata": {},
     "source": [
      "    ogr2ogr -a_srs EPSG:4326 /Users/danielmsheehan/Desktop/data/processing/p/p_20130101_wgs84_prj.shp /Users/danielmsheehan/Desktop/data/processing/p/p_20130101.shp\n",
      "    \n",
      "    \n",
      "     2263\n",
      "     \n",
      "    ogr2ogr -a_srs EPSG:2263 /Users/danielmsheehan/Desktop/data/processing/p/p_20130101_nyspli_prj.shp /Users/danielmsheehan/Desktop/data/processing/p/p_20130101_wgs84_prj.shp\n",
      "    ogr2ogr -f \"ESRI Shapefile\" /Users/danielmsheehan/Desktop/data/processing/p/p_20130101_wgs84_prj.shp /Users/danielmsheehan/Desktop/data/processing/p/p_20130101_nyspli_prj.shp -s_srs EPSG:4326 -t_srs EPSG:2263\n",
      "    \n",
      "    ogr2ogr -t_srs EPSG:2263 /Users/danielmsheehan/Desktop/data/processing/p/p_20130101_nyspli_prj.shp /Users/danielmsheehan/Desktop/data/processing/p/p_20130101_wgs84_prj.shp"
     ]
    }
   ],
   "metadata": {}
  }
 ]
}