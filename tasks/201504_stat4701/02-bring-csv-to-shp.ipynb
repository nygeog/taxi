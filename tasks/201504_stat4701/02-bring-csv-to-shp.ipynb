{
 "metadata": {
  "name": "",
  "signature": "sha256:e324ae1bccdbbf945cd484af342e205c4f6f7177a6bc238790620b496a34d6fe"
 },
 "nbformat": 3,
 "nbformat_minor": 0,
 "worksheets": [
  {
   "cells": [
    {
     "cell_type": "code",
     "collapsed": false,
     "input": [
      "import re\n",
      "import pandas as pd\n",
      "from shapely.geometry import Point, mapping\n",
      "from fiona import collection\n",
      "import glob\n",
      "import os\n",
      "from datetime import datetime\n",
      "\n",
      "start = datetime(2013, 1, 1)\n",
      "end  = datetime(2013, 12, 31)\n",
      "\n",
      "daterange = pd.date_range(start, end)\n",
      "\n",
      "for i in daterange:\n",
      "    z = i.strftime(\"%Y%m%d\")\n",
      "    m = z[4:6]\n",
      "    m = m.lstrip('0')\n",
      "    print z\n",
      "    print m\n",
      "\n",
      "    df = pd.read_csv('/Users/danielmsheehan/Desktop/data/tables/p/'+z+'.csv')\n",
      "    ioSHP = '/Users/danielmsheehan/Desktop/data/processing/p/p_'+z+'.shp'\n",
      "\n",
      "\n",
      "    lng = 'lng'\n",
      "    lat = 'lat'\n",
      "\n",
      "    schema = { 'geometry': 'Point', 'properties': { 'tuid': 'str','lat':'float','lng':'float'} }\n",
      "\n",
      "    data = df\n",
      "    with collection(ioSHP, \"w\", \"ESRI Shapefile\", schema) as output:\n",
      "        for index, row in data.iterrows():\n",
      "            point = Point(row[lng], row[lat])\n",
      "            output.write({\n",
      "                'properties': {'tuid': row['tuid'],'lat': row['lat'],'lng': row['lng']},\n",
      "                'geometry': mapping(point)\n",
      "            })\n"
     ],
     "language": "python",
     "metadata": {},
     "outputs": [],
     "prompt_number": 1
    },
    {
     "cell_type": "markdown",
     "metadata": {},
     "source": [
      "    ogr2ogr -a_srs EPSG:4326 /Users/danielmsheehan/Desktop/data/processing/p/p_20130101_wgs84_prj.shp /Users/danielmsheehan/Desktop/data/processing/p/p_20130101.shp\n",
      "    \n",
      "    \n",
      "     2263\n",
      "     \n",
      "    ogr2ogr -a_srs EPSG:2263 /Users/danielmsheehan/Desktop/data/processing/p/p_20130101_nyspli_prj.shp /Users/danielmsheehan/Desktop/data/processing/p/p_20130101_wgs84_prj.shp\n",
      "    ogr2ogr -f \"ESRI Shapefile\" /Users/danielmsheehan/Desktop/data/processing/p/p_20130101_wgs84_prj.shp /Users/danielmsheehan/Desktop/data/processing/p/p_20130101_nyspli_prj.shp -s_srs EPSG:4326 -t_srs EPSG:2263\n",
      "    \n",
      "    ogr2ogr -t_srs EPSG:2263 /Users/danielmsheehan/Desktop/data/processing/p/p_20130101_nyspli_prj.shp /Users/danielmsheehan/Desktop/data/processing/p/p_20130101_wgs84_prj.shp"
     ]
    }
   ],
   "metadata": {}
  }
 ]
}