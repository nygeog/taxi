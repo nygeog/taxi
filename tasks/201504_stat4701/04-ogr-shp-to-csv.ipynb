{
 "metadata": {
  "name": ""
 },
 "nbformat": 3,
 "nbformat_minor": 0,
 "worksheets": [
  {
   "cells": [
    {
     "cell_type": "code",
     "collapsed": false,
     "input": [
      "import ogr\n",
      "import os\n",
      "import glob\n",
      "\n",
      "pj = '/Users/danielmsheehan/Desktop/data/'\n",
      "pj = '/Users/danielmsheehan/Dropbox/data_temp/'\n",
      "\n",
      "csvList = glob.glob(pj+'tables/'+\"*.csv\")\n",
      "\n",
      "x = []\n",
      "\n",
      "for i in csvList:\n",
      "    i = i.replace(pj+'tables/','').replace('.csv','')\n",
      "    #print i\n",
      "    x.append(i)\n",
      "\n",
      "#print x\n",
      "# z = x[:30]\n",
      "# z = x[30:120]\n",
      "# z = x[112:120]\n",
      "# z = x[120:200]\n",
      "# z = x[200:280]\n",
      "# z = x[280:365]\n",
      "\n",
      "# print z\n",
      "\n",
      "for i in x:\n",
      "    \n",
      "    command1 = 'ogr2ogr -f CSV '+pj+'processing/d/d_'+i+'_int_cb2010.csv '+pj+'processing/d/d_'+i+'_wgs84_prj_int_cb2010.shp -lco GEOMETRY=AS_WKT'\n",
      "    command2 = 'ogr2ogr -f CSV '+pj+'processing/p/p_'+i+'_int_cb2010.csv '+pj+'processing/p/p_'+i+'_wgs84_prj_int_cb2010.shp -lco GEOMETRY=AS_WKT'\n",
      "\n",
      "    os.system(command1)\n",
      "    os.system(command2)\n",
      "    \n",
      "    print i + ' is complete for pickup and dropoffs'\n"
     ],
     "language": "python",
     "metadata": {},
     "outputs": [
      {
       "output_type": "stream",
       "stream": "stdout",
       "text": [
        "20130101 is complete for pickup and dropoffs\n",
        "20130102 is complete for pickup and dropoffs"
       ]
      },
      {
       "output_type": "stream",
       "stream": "stdout",
       "text": [
        "\n",
        "20130103 is complete for pickup and dropoffs"
       ]
      },
      {
       "output_type": "stream",
       "stream": "stdout",
       "text": [
        "\n",
        "20130104 is complete for pickup and dropoffs"
       ]
      },
      {
       "output_type": "stream",
       "stream": "stdout",
       "text": [
        "\n",
        "20130105 is complete for pickup and dropoffs"
       ]
      },
      {
       "output_type": "stream",
       "stream": "stdout",
       "text": [
        "\n",
        "20130106 is complete for pickup and dropoffs"
       ]
      },
      {
       "output_type": "stream",
       "stream": "stdout",
       "text": [
        "\n",
        "20130107 is complete for pickup and dropoffs"
       ]
      },
      {
       "output_type": "stream",
       "stream": "stdout",
       "text": [
        "\n",
        "20130108 is complete for pickup and dropoffs"
       ]
      },
      {
       "output_type": "stream",
       "stream": "stdout",
       "text": [
        "\n",
        "20130109 is complete for pickup and dropoffs"
       ]
      },
      {
       "output_type": "stream",
       "stream": "stdout",
       "text": [
        "\n",
        "20130110 is complete for pickup and dropoffs"
       ]
      },
      {
       "output_type": "stream",
       "stream": "stdout",
       "text": [
        "\n"
       ]
      }
     ],
     "prompt_number": 14
    },
    {
     "cell_type": "code",
     "collapsed": false,
     "input": [],
     "language": "python",
     "metadata": {},
     "outputs": [],
     "prompt_number": 13
    },
    {
     "cell_type": "code",
     "collapsed": false,
     "input": [],
     "language": "python",
     "metadata": {},
     "outputs": []
    }
   ],
   "metadata": {}
  }
 ]
}