{
 "metadata": {
  "name": ""
 },
 "nbformat": 3,
 "nbformat_minor": 0,
 "worksheets": [
  {
   "cells": [
    {
     "cell_type": "code",
     "collapsed": false,
     "input": [
      "#eric updated this\n",
      "\n",
      "http://gis.stackexchange.com/questions/95746/join-a-csv-file-to-shapefile-using-gdal-ogr\n",
      "    \n",
      "    \n",
      "csvsql --db sqlite:///myjoindb.db --insert myjoincsv.csv\n",
      "ogr2ogr -append -f \"SQLite\" myjoindb.db myjoinshp.shp\n",
      "\n",
      "ogr2ogr -f \"ESRI Shapefile\" -sql \"SELECT csv.*, shp.* FROM myjoinshp shp INNER JOIN myjoincsv csv ON csv.joinfield = shp.joinfield\" joined_output.shp myjoindb.db"
     ],
     "language": "python",
     "metadata": {},
     "outputs": []
    }
   ],
   "metadata": {}
  }
 ]
}