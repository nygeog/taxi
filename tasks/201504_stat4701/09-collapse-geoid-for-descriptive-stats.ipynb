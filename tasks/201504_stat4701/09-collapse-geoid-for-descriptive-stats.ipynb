{
 "metadata": {
  "name": "",
  "signature": "sha256:ab6c4353f9dcf0e4addd16a6b90f2dd97d1f35b339dbd44872f2e818c72e03ab"
 },
 "nbformat": 3,
 "nbformat_minor": 0,
 "worksheets": [
  {
   "cells": [
    {
     "cell_type": "code",
     "collapsed": false,
     "input": [
      "import pandas as pd\n",
      "\n",
      "pd.options.display.max_columns = 5200\n",
      "pd.options.display.max_rows    = 5200\n",
      "\n",
      "pj = '/Users/danielmsheehan/Desktop/data/'\n",
      "pj = '/Users/danielmsheehan/Dropbox/data/'\n",
      "\n",
      "df = pd.read_csv(pj+'output/all/taxi_2013.csv', dtype={'geoid':object})\n",
      "\n",
      "dfg = df.groupby('geoid')\n",
      "\n",
      "dfg_desc = dfg['dist_roadbed'].describe()\n",
      "\n",
      "dfg_desc.to_csv(pj+'output/all/taxi_2013_describe.csv')"
     ],
     "language": "python",
     "metadata": {},
     "outputs": [],
     "prompt_number": 1
    },
    {
     "cell_type": "code",
     "collapsed": false,
     "input": [
      "import numpy as np\n",
      "\n",
      "pd.options.display.max_columns = 5200\n",
      "pd.options.display.max_rows    = 5200\n",
      "\n",
      "df = pd.read_csv(pj+'output/all/taxi_2013_describe.csv', dtype={'geoid':object})\n",
      "\n",
      "df.columns = ['geoid', 'stat','value']\n",
      "df.head(50)\n",
      "\n",
      "df_avg = df[(df.stat == 'mean')]\n",
      "df_med = df[(df.stat == '50%')]\n",
      "df_std = df[(df.stat == 'std')]\n",
      "df_cnt = df[(df.stat == 'count')]\n",
      "\n",
      "# #SEPARATE ALL THESE INTO SEPERATE NOTEBOOK CELLS AND RUN SEPERATELY B/C THAT MIGHT BE ALOT OF STUFF RUNNING IN MEM\n",
      "\n",
      "df_avg.columns = ['geoid', 'stat','avg_dist_roadbed']\n",
      "df_med.columns = ['geoid', 'stat','med_dist_roadbed']\n",
      "df_std.columns = ['geoid', 'stat','std_dist_roadbed']\n",
      "df_cnt.columns = ['geoid', 'stat','count']\n",
      "\n",
      "df_avg = df_avg[['geoid','avg_dist_roadbed']]\n",
      "df_med = df_med[['geoid','med_dist_roadbed']]\n",
      "df_std = df_std[['geoid','std_dist_roadbed']]\n",
      "df_cnt['count'] = df_cnt['count'].astype(int)\n",
      "df_cnt = df_cnt[['geoid','count']]\n",
      "\n",
      "df_std = df_std.fillna(0)\n",
      "df_std = df_std.replace(np.inf, 0)\n",
      "\n",
      "df_avg.to_csv(pj+'output/all/taxi_2013_describe_avg.csv', index=False)\n",
      "df_med.to_csv(pj+'output/all/taxi_2013_describe_med.csv', index=False)\n",
      "df_std.to_csv(pj+'output/all/taxi_2013_describe_std.csv', index=False)\n",
      "df_cnt.to_csv(pj+'output/all/taxi_2013_describe_cnt.csv', index=False)"
     ],
     "language": "python",
     "metadata": {},
     "outputs": [],
     "prompt_number": 10
    },
    {
     "cell_type": "code",
     "collapsed": false,
     "input": [],
     "language": "python",
     "metadata": {},
     "outputs": []
    }
   ],
   "metadata": {}
  }
 ]
}