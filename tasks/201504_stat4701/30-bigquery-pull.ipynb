{
 "metadata": {
  "name": "",
  "signature": "sha256:ad3f8cb27d97ccb261b3e6d158cf42c348c547bc44157c78602613946ab05ef6"
 },
 "nbformat": 3,
 "nbformat_minor": 0,
 "worksheets": [
  {
   "cells": [
    {
     "cell_type": "code",
     "collapsed": false,
     "input": [],
     "language": "python",
     "metadata": {},
     "outputs": []
    }
   ],
   "metadata": {}
  }
 ]
}