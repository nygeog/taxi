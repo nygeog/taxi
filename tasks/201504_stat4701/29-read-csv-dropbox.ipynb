{
 "metadata": {
  "name": ""
 },
 "nbformat": 3,
 "nbformat_minor": 0,
 "worksheets": [
  {
   "cells": [
    {
     "cell_type": "code",
     "collapsed": false,
     "input": [
      "import pandas as pd\n",
      "\n",
      "theCSV = 'https://www.dropbox.com/s/c1lcdjp8x66fehe/taxi_2013_m07.csv?dl=1'\n",
      "\n",
      "df = pd.read_csv(theCSV, dtype={'tuid':object,'geoid':object})\n",
      "\n",
      "df\n"
     ],
     "language": "python",
     "metadata": {},
     "outputs": [],
     "prompt_number": "*"
    },
    {
     "cell_type": "code",
     "collapsed": false,
     "input": [
      "%reset"
     ],
     "language": "python",
     "metadata": {},
     "outputs": []
    }
   ],
   "metadata": {}
  }
 ]
}