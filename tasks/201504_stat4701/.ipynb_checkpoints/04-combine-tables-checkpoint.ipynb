{
 "metadata": {
  "name": "",
  "signature": "sha256:f4931f4a04087695e06221986f4b5c172f25e19fd2e975443c0df628c1dffd93"
 },
 "nbformat": 3,
 "nbformat_minor": 0,
 "worksheets": [
  {
   "cells": [
    {
     "cell_type": "code",
     "collapsed": false,
     "input": [
      "import pandas as pd\n",
      "\n",
      "df = pd.read_csv('/Users/danielmsheehan/Desktop/data/tables/20130101.csv')\n",
      "dfcb = pd.read_csv('/Users/danielmsheehan/Desktop/data/processing/p/p_20130101_int_cb2010.csv')\n",
      "dfb = pd.read_csv('/Users/danielmsheehan/Desktop/data/input/building/bldg_dist_height.csv').rename(columns=lambda x: x.lower())\n",
      "\n",
      "#Loop for dates and dropoffs and pickups\n",
      "\n",
      "\n",
      "dfcb = dfcb[['tuid','geoid']]\n",
      "\n",
      "dfcb['geoid'] = dfcb['geoid'].astype(str)\n",
      "\n",
      "print dfcb.dtypes\n",
      "\n",
      "dfb = dfb[['geoid','building_block_int_dis_tbl_bulkdens']]\n",
      "dfb = dfb.fillna(0)\n",
      "\n",
      "\n",
      "df = df.merge(dfcb, on='tuid', how='left')\n",
      "\n",
      "print df.dtypes\n",
      "\n",
      "df['count'] = 1\n",
      "\n",
      "dfp = df[['dist_roadbed_pickup_feet','geoid','count']]\n",
      "\n",
      "dfpg = dfp.groupby('geoid').sum()\n",
      "\n",
      "dfpg.to_csv('/Users/danielmsheehan/Desktop/data/output/tables/20130101.csv', index=True)\n",
      "\n",
      "dfpD = pd.read_csv('/Users/danielmsheehan/Desktop/data/output/tables/20130101.csv')\n",
      "\n",
      "dfpD['avg_pickup_dist_feet'] = dfpD['dist_roadbed_pickup_feet'] / dfpD['count']\n",
      "#dfTest = pd.read_csv('/Users/danielmsheehan/Desktop/data/output/tables/20130101.csv')\n",
      "\n",
      "#dfTest['temp'] = 1\n",
      "\n",
      "#dfTest = dfTest.groupby('temp').sum()\n",
      "\n",
      "dfpD = dfpD.merge(dfb, on='geoid', how='left')\n",
      "\n",
      "dfpD.to_csv('/Users/danielmsheehan/Desktop/data/output/tables/p_20130101_avg_dist.csv', index=False)"
     ],
     "language": "python",
     "metadata": {},
     "outputs": [
      {
       "output_type": "stream",
       "stream": "stdout",
       "text": [
        "tuid      int64\n",
        "geoid    object\n",
        "dtype: object\n",
        "tuid                           int64\n",
        "trip_distance                float64\n",
        "pickup_longitude             float64\n",
        "pickup_latitude              float64\n",
        "dropoff_longitude            float64\n",
        "dropoff_latitude             float64\n",
        "pickup_date                   object\n",
        "dropoff_date                  object\n",
        "dist_roadbed_pickup_feet     float64\n",
        "dist_roadbed_dropoff_feet    float64\n",
        "geoid                         object\n",
        "dtype: object"
       ]
      },
      {
       "output_type": "stream",
       "stream": "stdout",
       "text": [
        "\n"
       ]
      }
     ],
     "prompt_number": 34
    },
    {
     "cell_type": "code",
     "collapsed": false,
     "input": [],
     "language": "python",
     "metadata": {},
     "outputs": []
    }
   ],
   "metadata": {}
  }
 ]
}