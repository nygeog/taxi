{
 "metadata": {
  "name": ""
 },
 "nbformat": 3,
 "nbformat_minor": 0,
 "worksheets": [
  {
   "cells": [
    {
     "cell_type": "code",
     "collapsed": false,
     "input": [
      "import pandas as pd\n",
      "import glob\n",
      "\n",
      "pj = '/Users/danielmsheehan/Desktop/data/'\n",
      "pj = '/Users/danielmsheehan/Dropbox/data/'\n",
      "\n",
      "csvList = glob.glob(pj+'tables/'+\"*.csv\") #remove _sm\n",
      "\n",
      "x = []\n",
      "\n",
      "for i in csvList:\n",
      "    i = i.replace(pj+'tables/','').replace('.csv','') #remove _sm\n",
      "    #print i\n",
      "    x.append(i)\n",
      " \n",
      "print x\n",
      "\n",
      "df_list = []\n",
      "for i in x:\n",
      "    df = pd.read_csv(pj+'output/tables/d_'+i+'.csv', dtype={'geoid':object})\n",
      "    df['geoid'] = df['geoid'].astype(str)\n",
      "    df_list.append(df)\n",
      "#print df_list    \n",
      "dfc = pd.concat(df_list)\n",
      "dfc['geoid'] = dfc['geoid'].astype(str)\n",
      "print dfc.dtypes\n",
      "dfc['type'] = 'd'\n",
      "dfc.columns = ['tuid','dist_roadbed','geoid','dist_bldg_hght','type']\n",
      "dfc.to_csv(pj+'output/d_2013.csv', index=False)\n",
      "\n",
      "df_list = []\n",
      "for i in x:\n",
      "    df = pd.read_csv(pj+'output/tables/p_'+i+'.csv', dtype={'geoid':object})\n",
      "    df['geoid'] = df['geoid'].astype(str)\n",
      "    df_list.append(df)\n",
      "#print df_list    \n",
      "dfc = pd.concat(df_list)\n",
      "dfc['geoid'] = dfc['geoid'].astype(str)\n",
      "print dfc.dtypes\n",
      "dfc['type'] = 'd'\n",
      "dfc.columns = ['tuid','dist_roadbed','geoid','dist_bldg_hght','type']\n",
      "dfc.to_csv(pj+'output/p_2013.csv', index=False)\n"
     ],
     "language": "python",
     "metadata": {},
     "outputs": [
      {
       "output_type": "stream",
       "stream": "stdout",
       "text": [
        "['20130101', '20130102', '20130103', '20130104', '20130105', '20130106', '20130107', '20130108', '20130109', '20130110']\n",
        "tuid                                     int64\n",
        "dist_roadbed_dropoff_feet              float64\n",
        "geoid                                   object\n",
        "building_block_int_dis_tbl_bulkdens    float64\n",
        "dtype: object"
       ]
      },
      {
       "output_type": "stream",
       "stream": "stdout",
       "text": [
        "\n",
        "tuid                                     int64\n",
        "dist_roadbed_pickup_feet               float64\n",
        "geoid                                   object\n",
        "building_block_int_dis_tbl_bulkdens    float64\n",
        "dtype: object"
       ]
      },
      {
       "output_type": "stream",
       "stream": "stdout",
       "text": [
        "\n"
       ]
      }
     ],
     "prompt_number": 22
    },
    {
     "cell_type": "code",
     "collapsed": false,
     "input": [],
     "language": "python",
     "metadata": {},
     "outputs": []
    }
   ],
   "metadata": {}
  }
 ]
}