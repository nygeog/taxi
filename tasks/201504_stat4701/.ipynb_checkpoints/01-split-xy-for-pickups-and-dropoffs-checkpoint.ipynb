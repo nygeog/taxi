{
 "metadata": {
  "name": "",
  "signature": "sha256:02b10efcbc097a594f35eb14484635361ab5d147d80e22b92a7fe61f626c553e"
 },
 "nbformat": 3,
 "nbformat_minor": 0,
 "worksheets": [
  {
   "cells": [
    {
     "cell_type": "code",
     "collapsed": false,
     "input": [
      "import pandas as pd\n",
      "from datetime import datetime\n",
      "import os\n",
      "\n",
      "dboxData = '/Volumes/Hotel/Dropbox/GIS/Data/Municipal/USA/New_York/New_York_City/Taxi/tripData2013/'\n",
      "d = dboxData\n",
      "outfolder = '/Users/danielmsheehan/Desktop/data/tables/'\n",
      "o = outfolder\n",
      "\n",
      "start = datetime(2013, 1, 1)\n",
      "end  = datetime(2013, 12, 31)\n",
      "\n",
      "daterange = pd.date_range(start, end)\n",
      "\n",
      "for i in daterange:\n",
      "    z = i.strftime(\"%Y%m%d\")\n",
      "    m = z[4:6]\n",
      "    m = m.lstrip('0')\n",
      "    print z\n",
      "    print m\n",
      "    df = pd.read_csv(o+z+'.csv')\n",
      "    df = df[['tuid','pickup_longitude','pickup_latitude']]\n",
      "    df['lng'] = df['pickup_longitude']\n",
      "    df['lat'] = df['pickup_latitude']\n",
      "    df = df[['tuid','lng','lat']]\n",
      "    df.to_csv(o+'p/'+z+'.csv', index=False)\n",
      "    \n",
      "    df = pd.read_csv(o+z+'.csv')\n",
      "    df = df[['tuid','dropoff_longitude','dropoff_latitude']]\n",
      "    df['lng'] = df['dropoff_longitude']\n",
      "    df['lat'] = df['dropoff_latitude']\n",
      "    df = df[['tuid','lng','lat']]\n",
      "    df.to_csv(o+'d/'+z+'.csv', index=False)\n"
     ],
     "language": "python",
     "metadata": {},
     "outputs": [
      {
       "output_type": "stream",
       "stream": "stdout",
       "text": [
        "20130101\n",
        "1\n",
        "20130102"
       ]
      },
      {
       "output_type": "stream",
       "stream": "stdout",
       "text": [
        "\n",
        "1\n",
        "20130103"
       ]
      },
      {
       "output_type": "stream",
       "stream": "stdout",
       "text": [
        "\n",
        "1\n"
       ]
      }
     ],
     "prompt_number": 3
    },
    {
     "cell_type": "code",
     "collapsed": false,
     "input": [],
     "language": "python",
     "metadata": {},
     "outputs": []
    }
   ],
   "metadata": {}
  }
 ]
}