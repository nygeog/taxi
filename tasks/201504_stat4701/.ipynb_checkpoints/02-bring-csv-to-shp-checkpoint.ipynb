{
 "metadata": {
  "name": "",
  "signature": "sha256:382d890bbf99e39d2caa8854cd3dabcf1d8099cc57e558a3556bcbdab0cff8e5"
 },
 "nbformat": 3,
 "nbformat_minor": 0,
 "worksheets": [
  {
   "cells": [
    {
     "cell_type": "code",
     "collapsed": false,
     "input": [
      "import re\n",
      "import pandas as pd\n",
      "from shapely.geometry import Point, mapping\n",
      "from fiona import collection\n",
      "import glob\n",
      "import os\n",
      "from datetime import datetime\n",
      "\n",
      "start = datetime(2013, 1, 1)\n",
      "end  = datetime(2013, 12, 31)\n",
      "\n",
      "daterange = pd.date_range(start, end)\n",
      "\n",
      "for i in daterange:\n",
      "    z = i.strftime(\"%Y%m%d\")\n",
      "    print z\n",
      "\n",
      "    df = pd.read_csv('/Users/danielmsheehan/Desktop/data/tables/p/'+z+'.csv')\n",
      "    ioSHP = '/Users/danielmsheehan/Desktop/data/processing/p/p_'+z+'.shp'\n",
      "\n",
      "    lng = 'lng'\n",
      "    lat = 'lat'\n",
      "\n",
      "    schema = { 'geometry': 'Point', 'properties': { 'tuid': 'str','lat':'float','lng':'float'} }\n",
      "\n",
      "    data = df\n",
      "    with collection(ioSHP, \"w\", \"ESRI Shapefile\", schema) as output:\n",
      "        for index, row in data.iterrows():\n",
      "            point = Point(row[lng], row[lat])\n",
      "            output.write({\n",
      "                'properties': {'tuid': row['tuid'],'lat': row['lat'],'lng': row['lng']},\n",
      "                'geometry': mapping(point)\n",
      "            })\n",
      "    \n",
      "    df = pd.read_csv('/Users/danielmsheehan/Desktop/data/tables/d/'+z+'.csv')\n",
      "    ioSHP = '/Users/danielmsheehan/Desktop/data/processing/d/d_'+z+'.shp'\n",
      "\n",
      "    lng = 'lng'\n",
      "    lat = 'lat'\n",
      "\n",
      "    schema = { 'geometry': 'Point', 'properties': { 'tuid': 'str','lat':'float','lng':'float'} }\n",
      "\n",
      "    data = df\n",
      "    with collection(ioSHP, \"w\", \"ESRI Shapefile\", schema) as output:\n",
      "        for index, row in data.iterrows():\n",
      "            point = Point(row[lng], row[lat])\n",
      "            output.write({\n",
      "                'properties': {'tuid': row['tuid'],'lat': row['lat'],'lng': row['lng']},\n",
      "                'geometry': mapping(point)\n",
      "            })"
     ],
     "language": "python",
     "metadata": {},
     "outputs": [
      {
       "output_type": "stream",
       "stream": "stdout",
       "text": [
        "20130101\n",
        "20130102"
       ]
      },
      {
       "output_type": "stream",
       "stream": "stdout",
       "text": [
        "\n",
        "20130103"
       ]
      },
      {
       "output_type": "stream",
       "stream": "stdout",
       "text": [
        "\n",
        "20130104"
       ]
      },
      {
       "output_type": "stream",
       "stream": "stdout",
       "text": [
        "\n",
        "20130105"
       ]
      },
      {
       "output_type": "stream",
       "stream": "stdout",
       "text": [
        "\n",
        "20130106"
       ]
      },
      {
       "output_type": "stream",
       "stream": "stdout",
       "text": [
        "\n",
        "20130107"
       ]
      },
      {
       "output_type": "stream",
       "stream": "stdout",
       "text": [
        "\n",
        "20130108"
       ]
      },
      {
       "output_type": "stream",
       "stream": "stdout",
       "text": [
        "\n",
        "20130109"
       ]
      },
      {
       "output_type": "stream",
       "stream": "stdout",
       "text": [
        "\n",
        "20130110"
       ]
      },
      {
       "output_type": "stream",
       "stream": "stdout",
       "text": [
        "\n",
        "20130111"
       ]
      },
      {
       "output_type": "stream",
       "stream": "stdout",
       "text": [
        "\n",
        "20130112"
       ]
      },
      {
       "output_type": "stream",
       "stream": "stdout",
       "text": [
        "\n",
        "20130113"
       ]
      },
      {
       "output_type": "stream",
       "stream": "stdout",
       "text": [
        "\n",
        "20130114"
       ]
      },
      {
       "output_type": "stream",
       "stream": "stdout",
       "text": [
        "\n",
        "20130115"
       ]
      },
      {
       "output_type": "stream",
       "stream": "stdout",
       "text": [
        "\n",
        "20130116"
       ]
      },
      {
       "output_type": "stream",
       "stream": "stdout",
       "text": [
        "\n",
        "20130117"
       ]
      },
      {
       "output_type": "stream",
       "stream": "stdout",
       "text": [
        "\n",
        "20130118"
       ]
      },
      {
       "output_type": "stream",
       "stream": "stdout",
       "text": [
        "\n",
        "20130119"
       ]
      },
      {
       "output_type": "stream",
       "stream": "stdout",
       "text": [
        "\n"
       ]
      },
      {
       "ename": "KeyboardInterrupt",
       "evalue": "",
       "output_type": "pyerr",
       "traceback": [
        "\u001b[0;31m---------------------------------------------------------------------------\u001b[0m\n\u001b[0;31mKeyboardInterrupt\u001b[0m                         Traceback (most recent call last)",
        "\u001b[0;32m<ipython-input-2-4907f4390210>\u001b[0m in \u001b[0;36m<module>\u001b[0;34m()\u001b[0m\n\u001b[1;32m     27\u001b[0m     \u001b[0;32mwith\u001b[0m \u001b[0mcollection\u001b[0m\u001b[0;34m(\u001b[0m\u001b[0mioSHP\u001b[0m\u001b[0;34m,\u001b[0m \u001b[0;34m\"w\"\u001b[0m\u001b[0;34m,\u001b[0m \u001b[0;34m\"ESRI Shapefile\"\u001b[0m\u001b[0;34m,\u001b[0m \u001b[0mschema\u001b[0m\u001b[0;34m)\u001b[0m \u001b[0;32mas\u001b[0m \u001b[0moutput\u001b[0m\u001b[0;34m:\u001b[0m\u001b[0;34m\u001b[0m\u001b[0m\n\u001b[1;32m     28\u001b[0m         \u001b[0;32mfor\u001b[0m \u001b[0mindex\u001b[0m\u001b[0;34m,\u001b[0m \u001b[0mrow\u001b[0m \u001b[0;32min\u001b[0m \u001b[0mdata\u001b[0m\u001b[0;34m.\u001b[0m\u001b[0miterrows\u001b[0m\u001b[0;34m(\u001b[0m\u001b[0;34m)\u001b[0m\u001b[0;34m:\u001b[0m\u001b[0;34m\u001b[0m\u001b[0m\n\u001b[0;32m---> 29\u001b[0;31m             \u001b[0mpoint\u001b[0m \u001b[0;34m=\u001b[0m \u001b[0mPoint\u001b[0m\u001b[0;34m(\u001b[0m\u001b[0mrow\u001b[0m\u001b[0;34m[\u001b[0m\u001b[0mlng\u001b[0m\u001b[0;34m]\u001b[0m\u001b[0;34m,\u001b[0m \u001b[0mrow\u001b[0m\u001b[0;34m[\u001b[0m\u001b[0mlat\u001b[0m\u001b[0;34m]\u001b[0m\u001b[0;34m)\u001b[0m\u001b[0;34m\u001b[0m\u001b[0m\n\u001b[0m\u001b[1;32m     30\u001b[0m             output.write({\n\u001b[1;32m     31\u001b[0m                 \u001b[0;34m'properties'\u001b[0m\u001b[0;34m:\u001b[0m \u001b[0;34m{\u001b[0m\u001b[0;34m'tuid'\u001b[0m\u001b[0;34m:\u001b[0m \u001b[0mrow\u001b[0m\u001b[0;34m[\u001b[0m\u001b[0;34m'tuid'\u001b[0m\u001b[0;34m]\u001b[0m\u001b[0;34m,\u001b[0m\u001b[0;34m'lat'\u001b[0m\u001b[0;34m:\u001b[0m \u001b[0mrow\u001b[0m\u001b[0;34m[\u001b[0m\u001b[0;34m'lat'\u001b[0m\u001b[0;34m]\u001b[0m\u001b[0;34m,\u001b[0m\u001b[0;34m'lng'\u001b[0m\u001b[0;34m:\u001b[0m \u001b[0mrow\u001b[0m\u001b[0;34m[\u001b[0m\u001b[0;34m'lng'\u001b[0m\u001b[0;34m]\u001b[0m\u001b[0;34m}\u001b[0m\u001b[0;34m,\u001b[0m\u001b[0;34m\u001b[0m\u001b[0m\n",
        "\u001b[0;32m/usr/local/lib/python2.7/site-packages/pandas/core/series.pyc\u001b[0m in \u001b[0;36m__getitem__\u001b[0;34m(self, key)\u001b[0m\n\u001b[1;32m    482\u001b[0m     \u001b[0;32mdef\u001b[0m \u001b[0m__getitem__\u001b[0m\u001b[0;34m(\u001b[0m\u001b[0mself\u001b[0m\u001b[0;34m,\u001b[0m \u001b[0mkey\u001b[0m\u001b[0;34m)\u001b[0m\u001b[0;34m:\u001b[0m\u001b[0;34m\u001b[0m\u001b[0m\n\u001b[1;32m    483\u001b[0m         \u001b[0;32mtry\u001b[0m\u001b[0;34m:\u001b[0m\u001b[0;34m\u001b[0m\u001b[0m\n\u001b[0;32m--> 484\u001b[0;31m             \u001b[0mresult\u001b[0m \u001b[0;34m=\u001b[0m \u001b[0mself\u001b[0m\u001b[0;34m.\u001b[0m\u001b[0mindex\u001b[0m\u001b[0;34m.\u001b[0m\u001b[0mget_value\u001b[0m\u001b[0;34m(\u001b[0m\u001b[0mself\u001b[0m\u001b[0;34m,\u001b[0m \u001b[0mkey\u001b[0m\u001b[0;34m)\u001b[0m\u001b[0;34m\u001b[0m\u001b[0m\n\u001b[0m\u001b[1;32m    485\u001b[0m \u001b[0;34m\u001b[0m\u001b[0m\n\u001b[1;32m    486\u001b[0m             \u001b[0;32mif\u001b[0m \u001b[0;32mnot\u001b[0m \u001b[0mnp\u001b[0m\u001b[0;34m.\u001b[0m\u001b[0misscalar\u001b[0m\u001b[0;34m(\u001b[0m\u001b[0mresult\u001b[0m\u001b[0;34m)\u001b[0m\u001b[0;34m:\u001b[0m\u001b[0;34m\u001b[0m\u001b[0m\n",
        "\u001b[0;31mKeyboardInterrupt\u001b[0m: "
       ]
      }
     ],
     "prompt_number": 2
    },
    {
     "cell_type": "markdown",
     "metadata": {},
     "source": [
      "    ogr2ogr -a_srs EPSG:4326 /Users/danielmsheehan/Desktop/data/processing/p/p_20130101_wgs84_prj.shp /Users/danielmsheehan/Desktop/data/processing/p/p_20130101.shp\n",
      "    \n",
      "    \n",
      "     2263\n",
      "     \n",
      "    ogr2ogr -a_srs EPSG:2263 /Users/danielmsheehan/Desktop/data/processing/p/p_20130101_nyspli_prj.shp /Users/danielmsheehan/Desktop/data/processing/p/p_20130101_wgs84_prj.shp\n",
      "    ogr2ogr -f \"ESRI Shapefile\" /Users/danielmsheehan/Desktop/data/processing/p/p_20130101_wgs84_prj.shp /Users/danielmsheehan/Desktop/data/processing/p/p_20130101_nyspli_prj.shp -s_srs EPSG:4326 -t_srs EPSG:2263\n",
      "    \n",
      "    ogr2ogr -t_srs EPSG:2263 /Users/danielmsheehan/Desktop/data/processing/p/p_20130101_nyspli_prj.shp /Users/danielmsheehan/Desktop/data/processing/p/p_20130101_wgs84_prj.shp"
     ]
    }
   ],
   "metadata": {}
  }
 ]
}