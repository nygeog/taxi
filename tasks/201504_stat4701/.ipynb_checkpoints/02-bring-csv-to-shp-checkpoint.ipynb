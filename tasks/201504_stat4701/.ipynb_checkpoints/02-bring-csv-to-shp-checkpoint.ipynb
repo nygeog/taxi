{
 "metadata": {
  "name": "",
  "signature": "sha256:cc75f7b8aed7dc690f135a36bb7bed85c93435c21b6fb905c6b2f3a79947cce3"
 },
 "nbformat": 3,
 "nbformat_minor": 0,
 "worksheets": []
}