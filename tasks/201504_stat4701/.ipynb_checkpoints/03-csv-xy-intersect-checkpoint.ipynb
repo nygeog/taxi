{
 "metadata": {
  "name": "",
  "signature": "sha256:173f8988d3abbf2ed962ec8be357bdb498c836439dd2116cabc8a3fe799defcd"
 },
 "nbformat": 3,
 "nbformat_minor": 0,
 "worksheets": [
  {
   "cells": [
    {
     "cell_type": "code",
     "collapsed": false,
     "input": [
      "import glob\n",
      "\n",
      "csvList = glob.glob('/Users/danielmsheehan/Desktop/data/tables/'+\"*.csv\")\n",
      "\n",
      "x = []\n",
      "\n",
      "for i in csvList:\n",
      "    i = i.replace('/Users/danielmsheehan/Desktop/data/tables/','').replace('.csv','')\n",
      "    #print i\n",
      "    x.append(i)\n",
      "\n",
      "#print x\n",
      "z = x[:30]\n",
      "z = x[30:120]\n",
      "z = x[112:120]\n",
      "z = x[120:200]\n",
      "z = x[200:280]\n",
      "z = x[280:365]\n",
      "\n",
      "print z"
     ],
     "language": "python",
     "metadata": {},
     "outputs": [
      {
       "output_type": "stream",
       "stream": "stdout",
       "text": [
        "['20131008', '20131009', '20131010', '20131011', '20131012', '20131013', '20131014', '20131015', '20131016', '20131017', '20131018', '20131019', '20131020', '20131021', '20131022', '20131023', '20131024', '20131025', '20131026', '20131027', '20131028', '20131029', '20131030', '20131031', '20131101', '20131102', '20131103', '20131104', '20131105', '20131106', '20131107', '20131108', '20131109', '20131110', '20131111', '20131112', '20131113', '20131114', '20131115', '20131116', '20131117', '20131118', '20131119', '20131120', '20131121', '20131122', '20131123', '20131124', '20131125', '20131126', '20131127', '20131128', '20131129', '20131130', '20131201', '20131202', '20131203', '20131204', '20131205', '20131206', '20131207', '20131208', '20131209', '20131210', '20131211', '20131212', '20131213', '20131214', '20131215', '20131216', '20131217', '20131218', '20131219', '20131220', '20131221', '20131222', '20131223', '20131224', '20131225', '20131226', '20131227', '20131228', '20131229', '20131230', '20131231']\n"
       ]
      }
     ],
     "prompt_number": 2
    },
    {
     "cell_type": "code",
     "collapsed": false,
     "input": [
      "import glob\n",
      "\n",
      "csvList = glob.glob('Z:/Desktop/data/tables/'+\"*.csv\")\n",
      "\n",
      "x = []\n",
      "\n",
      "for i in csvList:\n",
      "    i = i.replace('Z:/Desktop/data/tables\\\\','').replace('.csv','')\n",
      "    #print i\n",
      "    x.append(i)\n",
      "\n",
      "#print x\n",
      "z = x[:30]\n",
      "z = x[30:120]\n",
      "z = x[112:120]\n",
      "z = x[120:200]\n",
      "z = x[200:280]\n",
      "z = x[280:365]\n",
      "\n",
      "print z"
     ],
     "language": "python",
     "metadata": {},
     "outputs": []
    },
    {
     "cell_type": "code",
     "collapsed": false,
     "input": [
      "#Doing in ArcGIS is the way to go, much faster, just gotta stick with Shapefiles\n",
      "for i in z:\n",
      "    arcpy.Project_management(\"Z:/Desktop/data/processing/p/p_\"+i+\".shp\",\"Z:/Desktop/data/processing/p/p_\"+i+\"_spli.shp\",\"PROJCS['NAD_1983_StatePlane_New_York_Long_Island_FIPS_3104_Feet',GEOGCS['GCS_North_American_1983',DATUM['D_North_American_1983',SPHEROID['GRS_1980',6378137.0,298.257222101]],PRIMEM['Greenwich',0.0],UNIT['Degree',0.0174532925199433]],PROJECTION['Lambert_Conformal_Conic'],PARAMETER['False_Easting',984250.0],PARAMETER['False_Northing',0.0],PARAMETER['Central_Meridian',-74.0],PARAMETER['Standard_Parallel_1',40.66666666666666],PARAMETER['Standard_Parallel_2',41.03333333333333],PARAMETER['Latitude_Of_Origin',40.16666666666666],UNIT['Foot_US',0.3048006096012192]]\",\"WGS_1984_(ITRF00)_To_NAD_1983\",\"GEOGCS['GCS_WGS_1984',DATUM['D_WGS_1984',SPHEROID['WGS_1984',6378137.0,298.257223563]],PRIMEM['Greenwich',0.0],UNIT['Degree',0.0174532925199433],METADATA['World',-180.0,-90.0,180.0,90.0,0.0,0.0174532925199433,0.0,1262]]\")\n",
      "    arcpy.Project_management(\"Z:/Desktop/data/processing/d/d_\"+i+\".shp\",\"Z:/Desktop/data/processing/d/d_\"+i+\"_spli.shp\",\"PROJCS['NAD_1983_StatePlane_New_York_Long_Island_FIPS_3104_Feet',GEOGCS['GCS_North_American_1983',DATUM['D_North_American_1983',SPHEROID['GRS_1980',6378137.0,298.257222101]],PRIMEM['Greenwich',0.0],UNIT['Degree',0.0174532925199433]],PROJECTION['Lambert_Conformal_Conic'],PARAMETER['False_Easting',984250.0],PARAMETER['False_Northing',0.0],PARAMETER['Central_Meridian',-74.0],PARAMETER['Standard_Parallel_1',40.66666666666666],PARAMETER['Standard_Parallel_2',41.03333333333333],PARAMETER['Latitude_Of_Origin',40.16666666666666],UNIT['Foot_US',0.3048006096012192]]\",\"WGS_1984_(ITRF00)_To_NAD_1983\",\"GEOGCS['GCS_WGS_1984',DATUM['D_WGS_1984',SPHEROID['WGS_1984',6378137.0,298.257223563]],PRIMEM['Greenwich',0.0],UNIT['Degree',0.0174532925199433],METADATA['World',-180.0,-90.0,180.0,90.0,0.0,0.0174532925199433,0.0,1262]]\")\n",
      "\n",
      "#filename includes wgs84, probably should not as it is state plane\n",
      "for i in z:\n",
      "    arcpy.Intersect_analysis(\"Z:/Desktop/data/processing/p/p_\"+i+\"_spli.shp #;Z:/Desktop/data/input/census/nycb2010.shp #\",\"Z:/Desktop/data/processing/p/p_\"+i+\"_wgs84_prj_int_cb2010.shp\",\"ALL\",\"#\",\"INPUT\")\n",
      "    arcpy.Intersect_analysis(\"Z:/Desktop/data/processing/d/d_\"+i+\"_spli.shp #;Z:/Desktop/data/input/census/nycb2010.shp #\",\"Z:/Desktop/data/processing/d/d_\"+i+\"_wgs84_prj_int_cb2010.shp\",\"ALL\",\"#\",\"INPUT\")\n",
      "\n",
      "\n"
     ],
     "language": "python",
     "metadata": {},
     "outputs": []
    },
    {
     "cell_type": "markdown",
     "metadata": {},
     "source": [
      "    ogr2ogr -f CSV output.csv myshape.shp -lco GEOMETRY=AS_WKT\n",
      "    \n",
      "    ogr2ogr -f CSV Z:/Desktop/data/processing/p/p_20130101_int_cb2010.csv Z:/Desktop/data/processing/p/p_20130101_wgs84_prj_int_cb2010.shp -lco GEOMETRY=AS_WKT"
     ]
    }
   ],
   "metadata": {}
  }
 ]
}