{
 "metadata": {
  "name": "",
  "signature": "sha256:3058736e28e51aadad700695949765c6af043b383f1f8909a9ffb1017735454d"
 },
 "nbformat": 3,
 "nbformat_minor": 0,
 "worksheets": [
  {
   "cells": [
    {
     "cell_type": "code",
     "collapsed": false,
     "input": [
      "import glob\n",
      "\n",
      "csvList = glob.glob('/Users/danielmsheehan/Desktop/data/tables/'+\"*.csv\")\n",
      "\n",
      "x = []\n",
      "\n",
      "for i in csvList:\n",
      "    i = i.replace('/Users/danielmsheehan/Desktop/data/tables/','').replace('.csv','')\n",
      "    #print i\n",
      "    x.append(i)\n",
      "\n",
      "#print x\n",
      "z = x[:30]\n",
      "\n",
      "print z"
     ],
     "language": "python",
     "metadata": {},
     "outputs": [
      {
       "output_type": "stream",
       "stream": "stdout",
       "text": [
        "['20130101', '20130102', '20130103', '20130104', '20130105', '20130106', '20130107', '20130108', '20130109', '20130110', '20130111', '20130112', '20130113', '20130114', '20130115', '20130116', '20130117', '20130118', '20130119', '20130120', '20130121', '20130122', '20130123', '20130124', '20130125', '20130126', '20130127', '20130128', '20130129', '20130130']\n"
       ]
      }
     ],
     "prompt_number": 9
    },
    {
     "cell_type": "code",
     "collapsed": false,
     "input": [
      "import glob\n",
      "\n",
      "csvList = glob.glob('Z:/Desktop/data/tables/'+\"*.csv\")\n",
      "\n",
      "x = []\n",
      "\n",
      "for i in csvList:\n",
      "    i = i.replace('Z:/Desktop/data/tables\\\\','').replace('.csv','')\n",
      "    #print i\n",
      "    x.append(i)\n",
      "\n",
      "#print x\n",
      "z = x[:30]\n",
      "z = x[30:120]\n",
      "print z"
     ],
     "language": "python",
     "metadata": {},
     "outputs": []
    },
    {
     "cell_type": "code",
     "collapsed": false,
     "input": [
      "#Doing in ArcGIS is the way to go, much faster, just gotta stick with Shapefiles\n",
      "for i in z:\n",
      "    arcpy.Project_management(\"Z:/Desktop/data/processing/p/p_\"+i+\".shp\",\"Z:/Desktop/data/processing/p/p_\"+i+\"_spli.shp\",\"PROJCS['NAD_1983_StatePlane_New_York_Long_Island_FIPS_3104_Feet',GEOGCS['GCS_North_American_1983',DATUM['D_North_American_1983',SPHEROID['GRS_1980',6378137.0,298.257222101]],PRIMEM['Greenwich',0.0],UNIT['Degree',0.0174532925199433]],PROJECTION['Lambert_Conformal_Conic'],PARAMETER['False_Easting',984250.0],PARAMETER['False_Northing',0.0],PARAMETER['Central_Meridian',-74.0],PARAMETER['Standard_Parallel_1',40.66666666666666],PARAMETER['Standard_Parallel_2',41.03333333333333],PARAMETER['Latitude_Of_Origin',40.16666666666666],UNIT['Foot_US',0.3048006096012192]]\",\"WGS_1984_(ITRF00)_To_NAD_1983\",\"GEOGCS['GCS_WGS_1984',DATUM['D_WGS_1984',SPHEROID['WGS_1984',6378137.0,298.257223563]],PRIMEM['Greenwich',0.0],UNIT['Degree',0.0174532925199433],METADATA['World',-180.0,-90.0,180.0,90.0,0.0,0.0174532925199433,0.0,1262]]\")\n",
      "    arcpy.Project_management(\"Z:/Desktop/data/processing/d/d_\"+i+\".shp\",\"Z:/Desktop/data/processing/d/d_\"+i+\"_spli.shp\",\"PROJCS['NAD_1983_StatePlane_New_York_Long_Island_FIPS_3104_Feet',GEOGCS['GCS_North_American_1983',DATUM['D_North_American_1983',SPHEROID['GRS_1980',6378137.0,298.257222101]],PRIMEM['Greenwich',0.0],UNIT['Degree',0.0174532925199433]],PROJECTION['Lambert_Conformal_Conic'],PARAMETER['False_Easting',984250.0],PARAMETER['False_Northing',0.0],PARAMETER['Central_Meridian',-74.0],PARAMETER['Standard_Parallel_1',40.66666666666666],PARAMETER['Standard_Parallel_2',41.03333333333333],PARAMETER['Latitude_Of_Origin',40.16666666666666],UNIT['Foot_US',0.3048006096012192]]\",\"WGS_1984_(ITRF00)_To_NAD_1983\",\"GEOGCS['GCS_WGS_1984',DATUM['D_WGS_1984',SPHEROID['WGS_1984',6378137.0,298.257223563]],PRIMEM['Greenwich',0.0],UNIT['Degree',0.0174532925199433],METADATA['World',-180.0,-90.0,180.0,90.0,0.0,0.0174532925199433,0.0,1262]]\")\n",
      "\n",
      "#filename includes wgs84, probably should not as it is state plane\n",
      "for i in z:\n",
      "    arcpy.Intersect_analysis(\"Z:/Desktop/data/processing/p/p_\"+i+\"_spli.shp #;Z:/Desktop/data/input/census/nycb2010.shp #\",\"Z:/Desktop/data/processing/p/p_\"+i+\"_wgs84_prj_int_cb2010.shp\",\"ALL\",\"#\",\"INPUT\")\n",
      "    arcpy.Intersect_analysis(\"Z:/Desktop/data/processing/d/d_\"+i+\"_spli.shp #;Z:/Desktop/data/input/census/nycb2010.shp #\",\"Z:/Desktop/data/processing/d/d_\"+i+\"_wgs84_prj_int_cb2010.shp\",\"ALL\",\"#\",\"INPUT\")\n",
      "\n",
      "\n"
     ],
     "language": "python",
     "metadata": {},
     "outputs": []
    },
    {
     "cell_type": "markdown",
     "metadata": {},
     "source": [
      "    ogr2ogr -f CSV output.csv myshape.shp -lco GEOMETRY=AS_WKT\n",
      "    \n",
      "    ogr2ogr -f CSV Z:/Desktop/data/processing/p/p_20130101_int_cb2010.csv Z:/Desktop/data/processing/p/p_20130101_wgs84_prj_int_cb2010.shp -lco GEOMETRY=AS_WKT"
     ]
    }
   ],
   "metadata": {}
  }
 ]
}