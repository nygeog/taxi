{
 "metadata": {
  "name": "",
  "signature": "sha256:27f24f5649f5610137701fb535f6426ed3dbae9b155bbac2ab73d6e54b59d85a"
 },
 "nbformat": 3,
 "nbformat_minor": 0,
 "worksheets": [
  {
   "cells": [
    {
     "cell_type": "code",
     "collapsed": false,
     "input": [
      "import shutil\n",
      "import pandas as pd\n",
      "\n",
      "pj = '/Users/danielmsheehan/Dropbox/data/'\n",
      "\n",
      "df = pd.read_csv(pj+'output/all/nycb2010_taxi_2013_stats_bldg_cnt_pctcbbldg.csv', dtype={'geoid':object})\n",
      "      \n",
      "print df.dtypes \n",
      "\n",
      "df['geoid'] = \"'\" + df.geoid.map(str) + \"'\"\n",
      "df.to_csv(pj+'output/all/merge/myjoincsv.csv', index=False)\n",
      "\n",
      "shutil.copy2(pj+'input/census/nycb2010.dbf', pj+'output/all/merge/myjoinshp.dbf')\n",
      "shutil.copy2(pj+'input/census/nycb2010.prj', pj+'output/all/merge/myjoinshp.prj')\n",
      "shutil.copy2(pj+'input/census/nycb2010.shp', pj+'output/all/merge/myjoinshp.shp')\n",
      "shutil.copy2(pj+'input/census/nycb2010.shp.xml', pj+'output/all/merge/myjoinshp.shp.xml')\n",
      "shutil.copy2(pj+'input/census/nycb2010.shx', pj+'output/all/merge/myjoinshp.shx')"
     ],
     "language": "python",
     "metadata": {},
     "outputs": [
      {
       "output_type": "stream",
       "stream": "stdout",
       "text": [
        "geoid              object\n",
        "avgbrdist         float64\n",
        "medbrdist         float64\n",
        "stdbrdist         float64\n",
        "count               int64\n",
        "areasqft          float64\n",
        "countbldg         float64\n",
        "bldgareaft        float64\n",
        "pctcbbldg         float64\n",
        "dist_bldg_hght    float64\n",
        "dtype: object\n"
       ]
      }
     ],
     "prompt_number": 8
    },
    {
     "cell_type": "code",
     "collapsed": false,
     "input": [
      "#eric updated this\n",
      "\n",
      "http://gis.stackexchange.com/questions/95746/join-a-csv-file-to-shapefile-using-gdal-ogr\n",
      "    \n",
      "    \n",
      "csvsql --db sqlite:///myjoindb.db --insert myjoincsv.csv\n",
      "ogr2ogr -append -f \"SQLite\" myjoindb.db myjoinshp.shp\n",
      "\n",
      "ogr2ogr -f \"ESRI Shapefile\" -sql \"SELECT csv.*, shp.* FROM myjoinshp shp INNER JOIN myjoincsv csv ON csv.geoid = shp.geoid\" joined_output.shp myjoindb.db"
     ],
     "language": "python",
     "metadata": {},
     "outputs": []
    }
   ],
   "metadata": {}
  }
 ]
}