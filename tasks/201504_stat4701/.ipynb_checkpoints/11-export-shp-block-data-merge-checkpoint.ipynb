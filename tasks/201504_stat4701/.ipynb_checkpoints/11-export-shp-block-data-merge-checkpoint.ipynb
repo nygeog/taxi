{
 "metadata": {
  "name": "",
  "signature": "sha256:c7cb25fe9a1d9b2a8ccd92fd1fb953555d60689216052d33b1c42bafd087be5a"
 },
 "nbformat": 3,
 "nbformat_minor": 0,
 "worksheets": [
  {
   "cells": [
    {
     "cell_type": "code",
     "collapsed": false,
     "input": [
      "import pandas as pd\n",
      "import numpy as np\n",
      "import os\n",
      "\n",
      "pd.options.display.max_columns = 5200\n",
      "pd.options.display.max_rows    = 5200\n",
      "\n",
      "pj = '/Users/danielmsheehan/Desktop/data/'\n",
      "pj = '/Users/danielmsheehan/Dropbox/data/'\n",
      "pj = '/Volumes/Hotel/Dropbox/data/'\n",
      "\n",
      "command1 = 'ogr2ogr -f CSV '+pj+'output/all/nycb2010_taxi_2013_stats.csv '+pj+'output/all/nycb2010_taxi_2013_stats.shp -lco GEOMETRY=False'\n",
      "    \n",
      "os.system(command1)"
     ],
     "language": "python",
     "metadata": {},
     "outputs": [
      {
       "metadata": {},
       "output_type": "pyout",
       "prompt_number": 18,
       "text": [
        "0"
       ]
      }
     ],
     "prompt_number": 18
    },
    {
     "cell_type": "code",
     "collapsed": false,
     "input": [
      "df = pd.read_csv(pj+'output/all/nycb2010_taxi_2013_stats.csv', dtype={'geoid':object}).rename(columns=lambda x: x.lower())\n",
      "\n",
      "df = df[['geoid','avgbrdist','medbrdist','stdbrdist','count','areasqft']]\n",
      "\n",
      "bl = pd.read_csv(pj+'processing/buildings/cb2010_building_0913_int_describe_cnt.csv', dtype={'geoid':object})\n",
      "\n",
      "df = df.merge(bl, how='left', on='geoid')\n",
      "\n",
      "df.to_csv(pj+'output/all/nycb2010_taxi_2013_stats_bldg_cnt.csv', index=False)"
     ],
     "language": "python",
     "metadata": {},
     "outputs": [],
     "prompt_number": 21
    },
    {
     "cell_type": "code",
     "collapsed": false,
     "input": [],
     "language": "python",
     "metadata": {},
     "outputs": []
    }
   ],
   "metadata": {}
  }
 ]
}