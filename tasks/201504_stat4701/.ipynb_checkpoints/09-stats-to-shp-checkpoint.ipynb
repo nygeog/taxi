{
 "metadata": {
  "name": "",
  "signature": "sha256:a46ab3a3799f2b818ff3dbb40100ad10449956fabcf5db66eff0438bf4575bd3"
 },
 "nbformat": 3,
 "nbformat_minor": 0,
 "worksheets": [
  {
   "cells": [
    {
     "cell_type": "code",
     "collapsed": false,
     "input": [
      "import arcpy\n",
      "\n",
      "arcpy.TableToTable_conversion(\"W:/data/output/all/taxi_2013_describe_stats.csv\",\"W:/data/output/all\",\"taxi_2013_describe_stats.dbf\",\"#\",\"\"\"geoid \"geoid\" true true false 15 Text 0 0 ,First,#,W:/data/output/all/taxi_2013_describe_stats.csv,geoid,-1,-1;avgbrdist \"avgbrdist\" true true false 8 Double 0 0 ,First,#,W:/data/output/all/taxi_2013_describe_stats.csv,avgbrdist,-1,-1;medbrdist \"medbrdist\" true true false 8 Double 0 0 ,First,#,W:/data/output/all/taxi_2013_describe_stats.csv,medbrdist,-1,-1;stdbrdist \"stdbrdist\" true true false 8 Double 0 0 ,First,#,W:/data/output/all/taxi_2013_describe_stats.csv,stdbrdist,-1,-1;count \"count\" true true false 4 Long 0 0 ,First,#,W:/data/output/all/taxi_2013_describe_stats.csv,count,-1,-1\"\"\",\"#\")\n",
      "\n",
      "arcpy.MakeFeatureLayer_management(\"W:/data/output/all/nycb2010_taxi_2013.shp\",\"nycb2010_taxi_2013_Layer\",\"#\",\"#\",\"FID FID VISIBLE NONE;Shape Shape VISIBLE NONE;CB2010 CB2010 VISIBLE NONE;BoroCode BoroCode VISIBLE NONE;BoroName BoroName VISIBLE NONE;CT2010 CT2010 VISIBLE NONE;BCTCB2010 BCTCB2010 VISIBLE NONE;Shape_Leng Shape_Leng VISIBLE NONE;Shape_Area Shape_Area VISIBLE NONE;geoid geoid VISIBLE NONE\")\n",
      "\n",
      "arcpy.AddJoin_management(\"nycb2010_taxi_2013_Layer\",\"geoid\",\"W:/data/output/all/taxi_2013_describe_stats.dbf\",\"geoid\",\"KEEP_ALL\")\n",
      "\n",
      "arcpy.FeatureClassToFeatureClass_conversion(\"nycb2010_taxi_2013_Layer\",\"W:/data/output/all\",\"nycb2010_taxi_2013_stats.shp\",\"#\",\"\"\"CB2010 \"CB2010\" true true false 4 Text 0 0 ,First,#,W:/data/output/all/nycb2010_taxi_2013.shp,nycb2010_taxi_2013.CB2010,-1,-1;BoroCode \"BoroCode\" true true false 1 Text 0 0 ,First,#,W:/data/output/all/nycb2010_taxi_2013.shp,nycb2010_taxi_2013.BoroCode,-1,-1;BoroName \"BoroName\" true true false 32 Text 0 0 ,First,#,W:/data/output/all/nycb2010_taxi_2013.shp,nycb2010_taxi_2013.BoroName,-1,-1;CT2010 \"CT2010\" true true false 6 Text 0 0 ,First,#,W:/data/output/all/nycb2010_taxi_2013.shp,nycb2010_taxi_2013.CT2010,-1,-1;BCTCB2010 \"BCTCB2010\" true true false 11 Text 0 0 ,First,#,W:/data/output/all/nycb2010_taxi_2013.shp,nycb2010_taxi_2013.BCTCB2010,-1,-1;Shape_Leng \"Shape_Leng\" true true false 19 Double 0 0 ,First,#,W:/data/output/all/nycb2010_taxi_2013.shp,nycb2010_taxi_2013.Shape_Leng,-1,-1;Shape_Area \"Shape_Area\" true true false 19 Double 0 0 ,First,#,W:/data/output/all/nycb2010_taxi_2013.shp,nycb2010_taxi_2013.Shape_Area,-1,-1;geoid \"geoid\" true true false 254 Text 0 0 ,First,#,W:/data/output/all/nycb2010_taxi_2013.shp,nycb2010_taxi_2013.geoid,-1,-1;geoid_1 \"geoid_1\" true true false 15 Text 0 0 ,First,#,W:/data/output/all/nycb2010_taxi_2013.shp,taxi_2013_describe_stats.geoid,-1,-1;avgbrdist \"avgbrdist\" true true false 19 Double 0 0 ,First,#,W:/data/output/all/nycb2010_taxi_2013.shp,taxi_2013_describe_stats.avgbrdist,-1,-1;medbrdist \"medbrdist\" true true false 19 Double 0 0 ,First,#,W:/data/output/all/nycb2010_taxi_2013.shp,taxi_2013_describe_stats.medbrdist,-1,-1;stdbrdist \"stdbrdist\" true true false 19 Double 0 0 ,First,#,W:/data/output/all/nycb2010_taxi_2013.shp,taxi_2013_describe_stats.stdbrdist,-1,-1;count \"count\" true true false 9 Long 0 9 ,First,#,W:/data/output/all/nycb2010_taxi_2013.shp,taxi_2013_describe_stats.count,-1,-1\"\"\",\"#\")\n",
      "\n",
      "arcpy.AddField_management(\"W:/data/output/all/nycb2010_taxi_2013_stats.shp\",\"areasqft\",\"FLOAT\",\"#\",\"#\",\"#\",\"#\",\"NULLABLE\",\"NON_REQUIRED\",\"#\")\n",
      "\n",
      "arcpy.CalculateField_management(\"W:/data/output/all/nycb2010_taxi_2013_stats.shp\",\"areasqft\",\"!shape.area@squarefeet!\",\"PYTHON_9.3\",\"#\")\n"
     ],
     "language": "python",
     "metadata": {},
     "outputs": [
      {
       "output_type": "stream",
       "stream": "stdout",
       "text": [
        "avg is complete.\n"
       ]
      }
     ],
     "prompt_number": 12
    },
    {
     "cell_type": "code",
     "collapsed": false,
     "input": [
      "%reset"
     ],
     "language": "python",
     "metadata": {},
     "outputs": [
      {
       "name": "stdout",
       "output_type": "stream",
       "stream": "stdout",
       "text": [
        "Once deleted, variables cannot be recovered. Proceed (y/[n])? y\n"
       ]
      }
     ],
     "prompt_number": 13
    },
    {
     "cell_type": "code",
     "collapsed": false,
     "input": [
      "#intersect buildings and census blocks\n",
      "\n",
      "arcpy.Intersect_analysis(\"W:/data/output/all/nycb2010_taxi_2013_stats.shp #;building_0913 #\",\"W:/data/processing/buildings/cb2010_building_0913_int.shp\",\"ALL\",\"#\",\"INPUT\")\n",
      "\n",
      "\n"
     ],
     "language": "python",
     "metadata": {},
     "outputs": []
    }
   ],
   "metadata": {}
  }
 ]
}