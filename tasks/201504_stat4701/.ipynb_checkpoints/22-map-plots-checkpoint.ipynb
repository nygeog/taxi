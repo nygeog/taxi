{
 "metadata": {
  "name": "",
  "signature": "sha256:830eaa7fa2cd729d4ad91794095135db8f32ea81b81ed9cc828c163e68123aa4"
 },
 "nbformat": 3,
 "nbformat_minor": 0,
 "worksheets": [
  {
   "cells": [
    {
     "cell_type": "code",
     "collapsed": false,
     "input": [
      "from IPython.display import HTML \n",
      "HTML('<iframe align=left width=50% height=800 frameborder=0 src=https://dms2203.cartodb.com/viz/b68c8b70-e2a2-11e4-bf72-0e4fddd5de28/embed_map allowfullscreen webkitallowfullscreen mozallowfullscreen oallowfullscreen msallowfullscreen></iframe> <iframe align=right width=50% height=800 frameborder=0 src=https://dms2203.cartodb.com/viz/c6fdfff2-e2a2-11e4-9ba1-0e9d821ea90d/embed_map allowfullscreen webkitallowfullscreen mozallowfullscreen oallowfullscreen msallowfullscreen></iframe>')\n"
     ],
     "language": "python",
     "metadata": {},
     "outputs": [
      {
       "html": [
        "<iframe align=left width=50% height=800 frameborder=0 src=https://dms2203.cartodb.com/viz/b68c8b70-e2a2-11e4-bf72-0e4fddd5de28/embed_map allowfullscreen webkitallowfullscreen mozallowfullscreen oallowfullscreen msallowfullscreen></iframe> <iframe align=right width=50% height=800 frameborder=0 src=https://dms2203.cartodb.com/viz/c6fdfff2-e2a2-11e4-9ba1-0e9d821ea90d/embed_map allowfullscreen webkitallowfullscreen mozallowfullscreen oallowfullscreen msallowfullscreen></iframe>"
       ],
       "metadata": {},
       "output_type": "pyout",
       "prompt_number": 1,
       "text": [
        "<IPython.core.display.HTML at 0x107f22dd0>"
       ]
      }
     ],
     "prompt_number": 1
    },
    {
     "cell_type": "markdown",
     "metadata": {},
     "source": [
      "[Link to Steve's Map](https://www.dropbox.com/s/qkmmlpbevt02dcf/gps_map_v02.png?dl=0)"
     ]
    },
    {
     "cell_type": "code",
     "collapsed": false,
     "input": [],
     "language": "python",
     "metadata": {},
     "outputs": []
    }
   ],
   "metadata": {}
  }
 ]
}