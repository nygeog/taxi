{
 "metadata": {
  "name": "",
  "signature": "sha256:8f933573b29ce6d5ddb45ab062ce85a6b007687be143a7a29354b5d0c19abdf5"
 },
 "nbformat": 3,
 "nbformat_minor": 0,
 "worksheets": [
  {
   "cells": [
    {
     "cell_type": "code",
     "collapsed": false,
     "input": [
      "from IPython.display import HTML \n",
      "HTML('<iframe align=left width=50% height=800 frameborder=0 src=https://dms2203.cartodb.com/viz/b68c8b70-e2a2-11e4-bf72-0e4fddd5de28/embed_map allowfullscreen webkitallowfullscreen mozallowfullscreen oallowfullscreen msallowfullscreen></iframe> <iframe align=right width=50% height=800 frameborder=0 src=https://dms2203.cartodb.com/viz/c6fdfff2-e2a2-11e4-9ba1-0e9d821ea90d/embed_map allowfullscreen webkitallowfullscreen mozallowfullscreen oallowfullscreen msallowfullscreen></iframe>')\n"
     ],
     "language": "python",
     "metadata": {},
     "outputs": [
      {
       "html": [
        "<iframe align=left width=50% height=800 frameborder=0 src=https://dms2203.cartodb.com/viz/b68c8b70-e2a2-11e4-bf72-0e4fddd5de28/embed_map allowfullscreen webkitallowfullscreen mozallowfullscreen oallowfullscreen msallowfullscreen></iframe> <iframe align=right width=50% height=800 frameborder=0 src=https://dms2203.cartodb.com/viz/c6fdfff2-e2a2-11e4-9ba1-0e9d821ea90d/embed_map allowfullscreen webkitallowfullscreen mozallowfullscreen oallowfullscreen msallowfullscreen></iframe>"
       ],
       "metadata": {},
       "output_type": "pyout",
       "prompt_number": 6,
       "text": [
        "<IPython.core.display.HTML at 0x106522e90>"
       ]
      }
     ],
     "prompt_number": 6
    },
    {
     "cell_type": "code",
     "collapsed": false,
     "input": [],
     "language": "python",
     "metadata": {},
     "outputs": []
    }
   ],
   "metadata": {}
  }
 ]
}