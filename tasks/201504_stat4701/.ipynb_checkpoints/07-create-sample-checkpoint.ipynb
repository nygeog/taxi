{
 "metadata": {
  "name": "",
  "signature": "sha256:0a11394a3464664bffad064956bb4fe4d6e732d107bb6526af3b1b4245597853"
 },
 "nbformat": 3,
 "nbformat_minor": 0,
 "worksheets": [
  {
   "cells": [
    {
     "cell_type": "code",
     "collapsed": false,
     "input": [
      "import pandas as pd\n",
      "import glob\n",
      "\n",
      "pj = '/Users/danielmsheehan/Desktop/data/'\n",
      "pj = '/Users/danielmsheehan/Dropbox/data/'\n",
      "\n",
      "df = pd.read_csv(pj+'output/all/taxi_2013.csv', dtype={'tuid':object,'geoid':object})\n",
      "\n",
      "print df.dtypes\n",
      "#df['month'] = df.tuid.str[4:6] #by adding this, check memory\n",
      "\n",
      "#df = df[(df.month == '07')]\n",
      "\n",
      "df = df[(df.tuid.str[4:6] == '07')]\n",
      "                 \n",
      "df.to_csv(pj+'output/all/taxi_2013_m07.csv', index=False)"
     ],
     "language": "python",
     "metadata": {},
     "outputs": [],
     "prompt_number": "*"
    },
    {
     "cell_type": "code",
     "collapsed": false,
     "input": [
      "%reset"
     ],
     "language": "python",
     "metadata": {},
     "outputs": [],
     "prompt_number": "*"
    },
    {
     "cell_type": "code",
     "collapsed": false,
     "input": [],
     "language": "python",
     "metadata": {},
     "outputs": []
    }
   ],
   "metadata": {}
  }
 ]
}