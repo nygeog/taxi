{
 "metadata": {
  "name": "",
  "signature": "sha256:0a11394a3464664bffad064956bb4fe4d6e732d107bb6526af3b1b4245597853"
 },
 "nbformat": 3,
 "nbformat_minor": 0,
 "worksheets": [
  {
   "cells": [
    {
     "cell_type": "code",
     "collapsed": false,
     "input": [
      "import pandas as pd\n",
      "import glob\n",
      "\n",
      "pj = '/Users/danielmsheehan/Desktop/data/'\n",
      "pj = '/Users/danielmsheehan/Dropbox/data/'\n",
      "\n",
      "df = pd.read_csv(pj+'output/all/taxi_2013.csv', dtype={'geoid':object})\n",
      "\n",
      "df['month'] = df.tuid.str[4:6] #by adding this, check memory\n",
      "\n",
      "df = df[(df.month == '07')]\n",
      "        \n",
      "            \n",
      "df.to_csv(pj+'output/all/taxi_2013_m07.csv', index=False)"
     ],
     "language": "python",
     "metadata": {},
     "outputs": []
    },
    {
     "cell_type": "code",
     "collapsed": false,
     "input": [
      "%reset"
     ],
     "language": "python",
     "metadata": {},
     "outputs": []
    }
   ],
   "metadata": {}
  }
 ]
}