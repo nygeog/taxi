{
 "metadata": {
  "name": "",
  "signature": "sha256:a5fdffd6b2e7ed194062ec4d8489f386f9bc779c851954d2cd757f0231f1896c"
 },
 "nbformat": 3,
 "nbformat_minor": 0,
 "worksheets": [
  {
   "cells": [
    {
     "cell_type": "code",
     "collapsed": false,
     "input": [
      "import pandas as pd\n",
      "import glob\n",
      "\n",
      "pj = '/Users/danielmsheehan/Desktop/data/'\n",
      "#pj = '/Users/danielmsheehan/Dropbox/data_temp/'\n",
      "\n",
      "csvList = glob.glob(pj+'tables/'+\"*.csv\")\n",
      "\n",
      "x = []\n",
      "\n",
      "for i in csvList:\n",
      "    i = i.replace(pj+'tables/','').replace('.csv','')\n",
      "    #print i\n",
      "    x.append(i)\n",
      "\n",
      "dfb = pd.read_csv(pj+'input/building/bldg_dist_height.csv').rename(columns=lambda x: x.lower())\n",
      "dfb = dfb[['geoid','building_block_int_dis_tbl_bulkdens']]\n",
      "dfb = dfb.fillna(0)   \n",
      "\n",
      "for i in x:\n",
      "    df = pd.read_csv(pj+'tables/'+i+'.csv')\n",
      "    \n",
      "    dfcb = pd.read_csv(pj+'processing/p/p_'+i+'_int_cb2010.csv')\n",
      "    dfcb = dfcb[['tuid','geoid']]\n",
      "    dfcb['geoid'] = dfcb['geoid'].astype(str)\n",
      "    #print dfcb.dtypes\n",
      "    \n",
      "    df = df.merge(dfcb, on='tuid', how='left')\n",
      "    #print df.dtypes\n",
      "    \n",
      "    df['count'] = 1\n",
      "    dfp = df[['dist_roadbed_pickup_feet','geoid','count']]\n",
      "    dfpg = dfp.groupby('geoid').sum()\n",
      "    dfpg.to_csv(pj+'output/tables/p_'+i+'.csv', index=True)\n",
      "    \n",
      "    dfpD = pd.read_csv(pj+'output/tables/p_'+i+'.csv')\n",
      "    dfpD['avg_pickup_dist_feet'] = dfpD['dist_roadbed_pickup_feet'] / dfpD['count']\n",
      "    dfpD = dfpD.merge(dfb, on='geoid', how='left')\n",
      "    dfpD.to_csv(pj+'output/tables/p_'+i+'_avg_dist.csv', index=False)\n",
      "    \n",
      "    print i + ' is complete for pickups'\n",
      "    \n",
      "for i in x:\n",
      "    df = pd.read_csv(pj+'tables/'+i+'.csv')\n",
      "    \n",
      "    dfcb = pd.read_csv(pj+'processing/d/d_'+i+'_int_cb2010.csv')\n",
      "    dfcb = dfcb[['tuid','geoid']]\n",
      "    dfcb['geoid'] = dfcb['geoid'].astype(str)\n",
      "    #print dfcb.dtypes\n",
      "    \n",
      "    df = df.merge(dfcb, on='tuid', how='left')  \n",
      "    #print df.dtypes\n",
      "    \n",
      "    df['count'] = 1\n",
      "    dfp = df[['dist_roadbed_dropoff_feet','geoid','count']]\n",
      "    dfpg = dfp.groupby('geoid').sum()\n",
      "    dfpg.to_csv(pj+'output/tables/d_'+i+'.csv', index=True)\n",
      "    \n",
      "    dfpD = pd.read_csv(pj+'output/tables/d_'+i+'.csv')\n",
      "    dfpD['avg_dropoff_dist_feet'] = dfpD['dist_roadbed_dropoff_feet'] / dfpD['count']\n",
      "    dfpD = dfpD.merge(dfb, on='geoid', how='left')\n",
      "    dfpD.to_csv(pj+'output/tables/d_'+i+'_avg_dist.csv', index=False)\n",
      "    \n",
      "    print i + ' is complete for dropoffs'\n",
      "    "
     ],
     "language": "python",
     "metadata": {},
     "outputs": [
      {
       "output_type": "stream",
       "stream": "stdout",
       "text": [
        "20130101 is complete for pickups\n",
        "20130102 is complete for pickups"
       ]
      },
      {
       "output_type": "stream",
       "stream": "stdout",
       "text": [
        "\n",
        "20130103 is complete for pickups"
       ]
      },
      {
       "output_type": "stream",
       "stream": "stdout",
       "text": [
        "\n",
        "20130104 is complete for pickups"
       ]
      }
     ]
    },
    {
     "cell_type": "code",
     "collapsed": false,
     "input": [],
     "language": "python",
     "metadata": {},
     "outputs": []
    }
   ],
   "metadata": {}
  }
 ]
}