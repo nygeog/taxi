{
 "metadata": {
  "name": "",
  "signature": "sha256:55caae78d2fc8d3132c2ace1b797c51989030217692f19bd22e1c0b6060c4641"
 },
 "nbformat": 3,
 "nbformat_minor": 0,
 "worksheets": [
  {
   "cells": [
    {
     "cell_type": "code",
     "collapsed": false,
     "input": [
      "#Doing in ArcGIS is the way to go, much faster, just gotta stick with Shapefiles\n",
      "\n",
      "arcpy.Intersect_analysis(\"Z:/Desktop/data/processing/p/p_20130101_wgs84_prj.shp #;Z:/Desktop/data/input/census/nycb2010.shp #\",\"Z:/Desktop/data/processing/p/p_20130101_wgs84_prj_int_cb2010.shp\",\"ALL\",\"#\",\"INPUT\")\n",
      "\n",
      "\n"
     ],
     "language": "python",
     "metadata": {},
     "outputs": [],
     "prompt_number": 1
    },
    {
     "cell_type": "code",
     "collapsed": false,
     "input": [],
     "language": "python",
     "metadata": {},
     "outputs": []
    }
   ],
   "metadata": {}
  }
 ]
}